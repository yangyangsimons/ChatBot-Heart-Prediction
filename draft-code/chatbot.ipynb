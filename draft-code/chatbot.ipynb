{
 "cells": [
  {
   "cell_type": "code",
   "execution_count": null,
   "metadata": {},
   "outputs": [],
   "source": [
    "from pprint import pprint"
   ]
  },
  {
   "cell_type": "code",
   "execution_count": null,
   "metadata": {},
   "outputs": [],
   "source": [
    "knowledge = { (\"person1\", \"name\", \"?\"), \\\n",
    "              (\"person1\", \"town\", \"?\"),\n",
    "              (\"person1\", \"street\", \"?\") }"
   ]
  },
  {
   "cell_type": "code",
   "execution_count": null,
   "metadata": {},
   "outputs": [],
   "source": [
    "active = True\n",
    "# while active:\n",
    "    unknowns = { (person,fact,value) for (person,fact,value) \\\n",
    "                 in knowledge if value==\"?\" }\n",
    "    print(\"UNKNOWN:\")\n",
    "    pprint(unknowns)\n",
    "    print(\"KNOWN:\")\n"
   ]
  },
  {
   "cell_type": "code",
   "execution_count": null,
   "metadata": {},
   "outputs": [],
   "source": [
    "    pprint(knowledge - unknowns)\n",
    "    if unknowns: #is non-empty\n",
    "        question = \"## to fill in ## \"\n",
    "        reply = input(question)\n",
    "        # to fill in - process reply\n",
    "    else:\n",
    "        question = \"How can I help you? \"\n",
    "        helpRequest = input(question)\n",
    "        # to fill in - process reply\n",
    "    print()"
   ]
  }
 ],
 "metadata": {
  "kernelspec": {
   "display_name": "Python 3 (ipykernel)",
   "language": "python",
   "name": "python3"
  },
  "language_info": {
   "codemirror_mode": {
    "name": "ipython",
    "version": 3
   },
   "file_extension": ".py",
   "mimetype": "text/x-python",
   "name": "python",
   "nbconvert_exporter": "python",
   "pygments_lexer": "ipython3",
   "version": "3.10.0"
  }
 },
 "nbformat": 4,
 "nbformat_minor": 4
}
