{
 "cells": [
  {
   "cell_type": "code",
   "execution_count": 15,
   "id": "2b53cc38",
   "metadata": {},
   "outputs": [],
   "source": [
    "import pandas as pd \n",
    "import numpy as np\n",
    "\n",
    "import seaborn as sns\n",
    "\n",
    "%matplotlib inline\n",
    "import matplotlib.pyplot as plt\n",
    "from sklearn.model_selection import GridSearchCV  \n",
    "from sklearn.model_selection import train_test_split\n",
    "from sklearn.neighbors import KNeighborsClassifier\n",
    "from sklearn.svm import SVC\n",
    "from sklearn.compose import make_column_transformer\n",
    "from sklearn.preprocessing import OneHotEncoder\n",
    "from sklearn import metrics\n",
    "from sklearn.metrics import confusion_matrix,accuracy_score,roc_curve,classification_report,ConfusionMatrixDisplay\n",
    "from sklearn.preprocessing import StandardScaler"
   ]
  },
  {
   "cell_type": "code",
   "execution_count": 16,
   "id": "cedccd73",
   "metadata": {},
   "outputs": [],
   "source": [
    "data = pd.read_csv(\"heart_disease.csv\",encoding='utf-8')\n",
    "# data.head()\n",
    "#data processing get the format of all data\n",
    "# data.info()"
   ]
  },
  {
   "cell_type": "code",
   "execution_count": 17,
   "id": "b5e29579",
   "metadata": {},
   "outputs": [],
   "source": [
    "data.nunique()\n",
    "#transform the yes = 1, no = 0, and male = 1, female = 0;\n",
    "data = data[data.columns].replace({'Yes': 1, 'No': 0, 'Male':1,'Female':0})\n",
    "#transform the special data to general\n",
    "data = data[data.columns].replace({'No, borderline diabetes': 0, 'Yes (during pregnancy)': 1})\n",
    "#transform column 'Diabetic' to int as it only contains 0 and 1\n",
    "data['Diabetic'] = data['Diabetic'].astype(int)\n",
    "# data.head()"
   ]
  },
  {
   "cell_type": "code",
   "execution_count": 18,
   "id": "ed53acc7",
   "metadata": {},
   "outputs": [],
   "source": [
    "#standardize features; z = (sample - mean)/ standard deviation\n",
    "stand_col = ['BMI','PhysicalHealth','MentalHealth','SleepTime']\n",
    "scaler = StandardScaler().fit(data[stand_col])\n",
    "data[stand_col] = scaler.transform(data[stand_col])\n",
    "# data.head()"
   ]
  },
  {
   "cell_type": "code",
   "execution_count": 19,
   "id": "777ad929",
   "metadata": {},
   "outputs": [],
   "source": [
    "# use one hot encoding scheme to deal with the rest categorical data.\n",
    "enc = OneHotEncoder(handle_unknown = 'ignore')\n",
    "unProcessColumns = ['AgeCategory', 'Race']\n",
    "enc.fit(data[unProcessColumns])\n",
    "processedData = enc.transform(data[unProcessColumns]).toarray()\n",
    "# join processed data with the data set and drop off the unprocessed data;\n",
    "data = pd.concat([data, pd.DataFrame(processedData)],axis = 1)\n",
    "data = data.drop(columns = unProcessColumns,axis = 1)\n",
    "# data.head()"
   ]
  },
  {
   "cell_type": "code",
   "execution_count": 20,
   "id": "911a58c0",
   "metadata": {},
   "outputs": [],
   "source": [
    "# seperate features and lable\n",
    "label = data['HeartDisease']\n",
    "features = data.drop(columns=['HeartDisease'],axis=1)"
   ]
  },
  {
   "cell_type": "code",
   "execution_count": 21,
   "id": "0cac7be3",
   "metadata": {},
   "outputs": [
    {
     "data": {
      "text/plain": [
       "((839, 32), (839,), (160, 32), (160,))"
      ]
     },
     "execution_count": 21,
     "metadata": {},
     "output_type": "execute_result"
    }
   ],
   "source": [
    "#use cross validation to train the model\n",
    "X_train,X_test,y_train,y_test = train_test_split(features,label,test_size = 0.16,random_state = 1)\n",
    "X_train.shape, y_train.shape, X_test.shape, y_test.shape\n",
    "    "
   ]
  },
  {
   "cell_type": "code",
   "execution_count": 22,
   "id": "b9bd7ea8",
   "metadata": {},
   "outputs": [],
   "source": [
    "# def KNN_prediction():\n",
    "#     listAcc = []\n",
    "#     for n in range(1,15):\n",
    "#         knn = KNeighborsClassifier(n_neighbors= n)\n",
    "#         knn.fit(X_train,y_train)\n",
    "#         knn_predict = knn.predict(X_test)\n",
    "#         knn_accuracy = accuracy_score(y_test,knn_predict)\n",
    "#         listAcc.append(metrics.accuracy_score(y_test,knn_predict))\n",
    "#     #plot the accuracy and N\n",
    "#     plt.figure(figsize=(10,6))\n",
    "#     plt.plot(range(1,15),listAcc,color='blue', linestyle='dashed', \n",
    "#      marker='o',markerfacecolor='red', markersize=10)\n",
    "#     plt.title(\"Accuracy VS K value\")\n",
    "#     plt.xlabel(\"K\")\n",
    "#     plt.ylabel(\"Accuracy\")\n",
    "#     print(\"Accuracy: {0}\".format(knn_accuracy))\n",
    "#     print(\"Maximum accuracy: \",max(listAcc),\"at K =\",listAcc.index(max(listAcc)))\n",
    "    \n",
    "# KNN_prediction()\n"
   ]
  },
  {
   "cell_type": "code",
   "execution_count": 23,
   "id": "db6ab6ff",
   "metadata": {},
   "outputs": [
    {
     "name": "stdout",
     "output_type": "stream",
     "text": [
      "confusion metrics: \n",
      "[[132   1]\n",
      " [ 24   3]]\n",
      "              precision    recall  f1-score   support\n",
      "\n",
      "           0       0.85      0.99      0.91       133\n",
      "           1       0.75      0.11      0.19        27\n",
      "\n",
      "    accuracy                           0.84       160\n",
      "   macro avg       0.80      0.55      0.55       160\n",
      "weighted avg       0.83      0.84      0.79       160\n",
      "\n"
     ]
    },
    {
     "name": "stderr",
     "output_type": "stream",
     "text": [
      "/Users/lynnyang/opt/anaconda3/envs/DIA/lib/python3.10/site-packages/sklearn/utils/validation.py:1688: FutureWarning: Feature names only support names that are all strings. Got feature names with dtypes: ['int', 'str']. An error will be raised in 1.2.\n",
      "  warnings.warn(\n",
      "/Users/lynnyang/opt/anaconda3/envs/DIA/lib/python3.10/site-packages/sklearn/utils/validation.py:1688: FutureWarning: Feature names only support names that are all strings. Got feature names with dtypes: ['int', 'str']. An error will be raised in 1.2.\n",
      "  warnings.warn(\n",
      "/Users/lynnyang/opt/anaconda3/envs/DIA/lib/python3.10/site-packages/sklearn/utils/validation.py:1688: FutureWarning: Feature names only support names that are all strings. Got feature names with dtypes: ['int', 'str']. An error will be raised in 1.2.\n",
      "  warnings.warn(\n"
     ]
    },
    {
     "data": {
      "image/png": "[encoded data removed]",
      "text/plain": [
       "<Figure size 432x288 with 2 Axes>"
      ]
     },
     "metadata": {
      "needs_background": "light"
     },
     "output_type": "display_data"
    }
   ],
   "source": [
    "knn = KNeighborsClassifier(n_neighbors= 6)\n",
    "knn.fit(X_train,y_train)\n",
    "knn_predict = knn.predict(X_test)\n",
    "knn_conf_matrix = confusion_matrix(y_test,knn_predict,labels=knn.classes_)\n",
    "\n",
    "knn_accuracy = accuracy_score(y_test,knn_predict)\n",
    "#AOC calculation\n",
    "y_pred_proba_KNN = knn.predict_proba(X_test)[::,1]\n",
    "fpr_KNN, tpr_KNN, _ = metrics.roc_curve(y_test, y_pred_proba_KNN)\n",
    "auc_KNN = metrics.roc_auc_score(y_test, y_pred_proba_KNN)\n",
    "\n",
    "print(\"confusion metrics: \")\n",
    "print(knn_conf_matrix)\n",
    "print(classification_report(y_test,knn_predict))\n",
    "disp = ConfusionMatrixDisplay(confusion_matrix=knn_conf_matrix,display_labels=knn.classes_)\n",
    "disp.plot()\n",
    "plt.show()"
   ]
  },
  {
   "cell_type": "code",
   "execution_count": 24,
   "id": "af349085",
   "metadata": {},
   "outputs": [
    {
     "name": "stderr",
     "output_type": "stream",
     "text": [
      "/Users/lynnyang/opt/anaconda3/envs/DIA/lib/python3.10/site-packages/sklearn/utils/validation.py:1688: FutureWarning: Feature names only support names that are all strings. Got feature names with dtypes: ['int', 'str']. An error will be raised in 1.2.\n",
      "  warnings.warn(\n"
     ]
    },
    {
     "name": "stdout",
     "output_type": "stream",
     "text": [
      "0.7875\n",
      "confusion metrics: \n",
      "[[124   9]\n",
      " [ 25   2]]\n"
     ]
    },
    {
     "name": "stderr",
     "output_type": "stream",
     "text": [
      "/Users/lynnyang/opt/anaconda3/envs/DIA/lib/python3.10/site-packages/sklearn/utils/validation.py:1688: FutureWarning: Feature names only support names that are all strings. Got feature names with dtypes: ['int', 'str']. An error will be raised in 1.2.\n",
      "  warnings.warn(\n",
      "/Users/lynnyang/opt/anaconda3/envs/DIA/lib/python3.10/site-packages/sklearn/utils/validation.py:1688: FutureWarning: Feature names only support names that are all strings. Got feature names with dtypes: ['int', 'str']. An error will be raised in 1.2.\n",
      "  warnings.warn(\n"
     ]
    },
    {
     "data": {
      "image/png": "[encoded data removed]",
      "text/plain": [
       "<Figure size 432x288 with 2 Axes>"
      ]
     },
     "metadata": {
      "needs_background": "light"
     },
     "output_type": "display_data"
    }
   ],
   "source": [
    "# support vector classifier\n",
    "\n",
    "svc = SVC(kernel=\"sigmoid\",C=0.1,gamma=1,probability=True)\n",
    "svc.fit(X_train,y_train)\n",
    "svc_predict = svc.predict(X_test)\n",
    "svc_conf_matrix = confusion_matrix(y_test, svc_predict)\n",
    "svc_accuracy = accuracy_score(y_test, svc_predict)\n",
    "print(svc_accuracy)\n",
    "print(\"confusion metrics: \")\n",
    "print(svc_conf_matrix)\n",
    "\n",
    "y_pred_proba_SVC = svc.predict_proba(X_test)[::,1]\n",
    "fpr_SVC, tpr_SVC, _ = metrics.roc_curve(y_test, y_pred_proba_SVC)\n",
    "auc_SVC = metrics.roc_auc_score(y_test, y_pred_proba_SVC)\n",
    "\n",
    "#     print(svc_conf_matrix)\n",
    "#     print(classification_report(y_test,svc_predict))\n",
    "disp = ConfusionMatrixDisplay(confusion_matrix=svc_conf_matrix,display_labels=svc.classes_)\n",
    "disp.plot()\n",
    "plt.show() "
   ]
  },
  {
   "cell_type": "code",
   "execution_count": 25,
   "id": "33d4c34e",
   "metadata": {},
   "outputs": [
    {
     "name": "stdout",
     "output_type": "stream",
     "text": [
      "Fitting 5 folds for each of 4 candidates, totalling 20 fits\n",
      "[CV 1/5] END .............C=0.1, kernel=sigmoid;, score=0.845 total time=   0.0s\n",
      "[CV 2/5] END .............C=0.1, kernel=sigmoid;, score=0.851 total time=   0.0s\n",
      "[CV 3/5] END .............C=0.1, kernel=sigmoid;, score=0.857 total time=   0.0s\n",
      "[CV 4/5] END .............C=0.1, kernel=sigmoid;, score=0.851 total time=   0.0s\n",
      "[CV 5/5] END .............C=0.1, kernel=sigmoid;, score=0.856 total time=   0.0s\n",
      "[CV 1/5] END ...............C=1, kernel=sigmoid;, score=0.804 total time=   0.0s\n",
      "[CV 2/5] END ...............C=1, kernel=sigmoid;, score=0.827 total time=   0.0s\n",
      "[CV 3/5] END ...............C=1, kernel=sigmoid;, score=0.833 total time=   0.0s\n",
      "[CV 4/5] END ...............C=1, kernel=sigmoid;, score=0.798 total time=   0.0s\n",
      "[CV 5/5] END ...............C=1, kernel=sigmoid;, score=0.826 total time=   0.0s\n",
      "[CV 1/5] END ..............C=10, kernel=sigmoid;, score=0.738 total time=   0.0s\n",
      "[CV 2/5] END ..............C=10, kernel=sigmoid;, score=0.786 total time=   0.0s\n",
      "[CV 3/5] END ..............C=10, kernel=sigmoid;, score=0.786 total time=   0.0s\n"
     ]
    },
    {
     "name": "stderr",
     "output_type": "stream",
     "text": [
      "/Users/lynnyang/opt/anaconda3/envs/DIA/lib/python3.10/site-packages/sklearn/utils/validation.py:1688: FutureWarning: Feature names only support names that are all strings. Got feature names with dtypes: ['int', 'str']. An error will be raised in 1.2.\n",
      "  warnings.warn(\n",
      "/Users/lynnyang/opt/anaconda3/envs/DIA/lib/python3.10/site-packages/sklearn/utils/validation.py:1688: FutureWarning: Feature names only support names that are all strings. Got feature names with dtypes: ['int', 'str']. An error will be raised in 1.2.\n",
      "  warnings.warn(\n",
      "/Users/lynnyang/opt/anaconda3/envs/DIA/lib/python3.10/site-packages/sklearn/utils/validation.py:1688: FutureWarning: Feature names only support names that are all strings. Got feature names with dtypes: ['int', 'str']. An error will be raised in 1.2.\n",
      "  warnings.warn(\n",
      "/Users/lynnyang/opt/anaconda3/envs/DIA/lib/python3.10/site-packages/sklearn/utils/validation.py:1688: FutureWarning: Feature names only support names that are all strings. Got feature names with dtypes: ['int', 'str']. An error will be raised in 1.2.\n",
      "  warnings.warn(\n",
      "/Users/lynnyang/opt/anaconda3/envs/DIA/lib/python3.10/site-packages/sklearn/utils/validation.py:1688: FutureWarning: Feature names only support names that are all strings. Got feature names with dtypes: ['int', 'str']. An error will be raised in 1.2.\n",
      "  warnings.warn(\n",
      "/Users/lynnyang/opt/anaconda3/envs/DIA/lib/python3.10/site-packages/sklearn/utils/validation.py:1688: FutureWarning: Feature names only support names that are all strings. Got feature names with dtypes: ['int', 'str']. An error will be raised in 1.2.\n",
      "  warnings.warn(\n",
      "/Users/lynnyang/opt/anaconda3/envs/DIA/lib/python3.10/site-packages/sklearn/utils/validation.py:1688: FutureWarning: Feature names only support names that are all strings. Got feature names with dtypes: ['int', 'str']. An error will be raised in 1.2.\n",
      "  warnings.warn(\n",
      "/Users/lynnyang/opt/anaconda3/envs/DIA/lib/python3.10/site-packages/sklearn/utils/validation.py:1688: FutureWarning: Feature names only support names that are all strings. Got feature names with dtypes: ['int', 'str']. An error will be raised in 1.2.\n",
      "  warnings.warn(\n",
      "/Users/lynnyang/opt/anaconda3/envs/DIA/lib/python3.10/site-packages/sklearn/utils/validation.py:1688: FutureWarning: Feature names only support names that are all strings. Got feature names with dtypes: ['int', 'str']. An error will be raised in 1.2.\n",
      "  warnings.warn(\n",
      "/Users/lynnyang/opt/anaconda3/envs/DIA/lib/python3.10/site-packages/sklearn/utils/validation.py:1688: FutureWarning: Feature names only support names that are all strings. Got feature names with dtypes: ['int', 'str']. An error will be raised in 1.2.\n",
      "  warnings.warn(\n",
      "/Users/lynnyang/opt/anaconda3/envs/DIA/lib/python3.10/site-packages/sklearn/utils/validation.py:1688: FutureWarning: Feature names only support names that are all strings. Got feature names with dtypes: ['int', 'str']. An error will be raised in 1.2.\n",
      "  warnings.warn(\n",
      "/Users/lynnyang/opt/anaconda3/envs/DIA/lib/python3.10/site-packages/sklearn/utils/validation.py:1688: FutureWarning: Feature names only support names that are all strings. Got feature names with dtypes: ['int', 'str']. An error will be raised in 1.2.\n",
      "  warnings.warn(\n",
      "/Users/lynnyang/opt/anaconda3/envs/DIA/lib/python3.10/site-packages/sklearn/utils/validation.py:1688: FutureWarning: Feature names only support names that are all strings. Got feature names with dtypes: ['int', 'str']. An error will be raised in 1.2.\n",
      "  warnings.warn(\n",
      "/Users/lynnyang/opt/anaconda3/envs/DIA/lib/python3.10/site-packages/sklearn/utils/validation.py:1688: FutureWarning: Feature names only support names that are all strings. Got feature names with dtypes: ['int', 'str']. An error will be raised in 1.2.\n",
      "  warnings.warn(\n",
      "/Users/lynnyang/opt/anaconda3/envs/DIA/lib/python3.10/site-packages/sklearn/utils/validation.py:1688: FutureWarning: Feature names only support names that are all strings. Got feature names with dtypes: ['int', 'str']. An error will be raised in 1.2.\n",
      "  warnings.warn(\n",
      "/Users/lynnyang/opt/anaconda3/envs/DIA/lib/python3.10/site-packages/sklearn/utils/validation.py:1688: FutureWarning: Feature names only support names that are all strings. Got feature names with dtypes: ['int', 'str']. An error will be raised in 1.2.\n",
      "  warnings.warn(\n",
      "/Users/lynnyang/opt/anaconda3/envs/DIA/lib/python3.10/site-packages/sklearn/utils/validation.py:1688: FutureWarning: Feature names only support names that are all strings. Got feature names with dtypes: ['int', 'str']. An error will be raised in 1.2.\n",
      "  warnings.warn(\n",
      "/Users/lynnyang/opt/anaconda3/envs/DIA/lib/python3.10/site-packages/sklearn/utils/validation.py:1688: FutureWarning: Feature names only support names that are all strings. Got feature names with dtypes: ['int', 'str']. An error will be raised in 1.2.\n",
      "  warnings.warn(\n",
      "/Users/lynnyang/opt/anaconda3/envs/DIA/lib/python3.10/site-packages/sklearn/utils/validation.py:1688: FutureWarning: Feature names only support names that are all strings. Got feature names with dtypes: ['int', 'str']. An error will be raised in 1.2.\n",
      "  warnings.warn(\n",
      "/Users/lynnyang/opt/anaconda3/envs/DIA/lib/python3.10/site-packages/sklearn/utils/validation.py:1688: FutureWarning: Feature names only support names that are all strings. Got feature names with dtypes: ['int', 'str']. An error will be raised in 1.2.\n",
      "  warnings.warn(\n",
      "/Users/lynnyang/opt/anaconda3/envs/DIA/lib/python3.10/site-packages/sklearn/utils/validation.py:1688: FutureWarning: Feature names only support names that are all strings. Got feature names with dtypes: ['int', 'str']. An error will be raised in 1.2.\n",
      "  warnings.warn(\n",
      "/Users/lynnyang/opt/anaconda3/envs/DIA/lib/python3.10/site-packages/sklearn/utils/validation.py:1688: FutureWarning: Feature names only support names that are all strings. Got feature names with dtypes: ['int', 'str']. An error will be raised in 1.2.\n",
      "  warnings.warn(\n",
      "/Users/lynnyang/opt/anaconda3/envs/DIA/lib/python3.10/site-packages/sklearn/utils/validation.py:1688: FutureWarning: Feature names only support names that are all strings. Got feature names with dtypes: ['int', 'str']. An error will be raised in 1.2.\n",
      "  warnings.warn(\n",
      "/Users/lynnyang/opt/anaconda3/envs/DIA/lib/python3.10/site-packages/sklearn/utils/validation.py:1688: FutureWarning: Feature names only support names that are all strings. Got feature names with dtypes: ['int', 'str']. An error will be raised in 1.2.\n",
      "  warnings.warn(\n",
      "/Users/lynnyang/opt/anaconda3/envs/DIA/lib/python3.10/site-packages/sklearn/utils/validation.py:1688: FutureWarning: Feature names only support names that are all strings. Got feature names with dtypes: ['int', 'str']. An error will be raised in 1.2.\n",
      "  warnings.warn(\n",
      "/Users/lynnyang/opt/anaconda3/envs/DIA/lib/python3.10/site-packages/sklearn/utils/validation.py:1688: FutureWarning: Feature names only support names that are all strings. Got feature names with dtypes: ['int', 'str']. An error will be raised in 1.2.\n",
      "  warnings.warn(\n",
      "/Users/lynnyang/opt/anaconda3/envs/DIA/lib/python3.10/site-packages/sklearn/utils/validation.py:1688: FutureWarning: Feature names only support names that are all strings. Got feature names with dtypes: ['int', 'str']. An error will be raised in 1.2.\n",
      "  warnings.warn(\n",
      "/Users/lynnyang/opt/anaconda3/envs/DIA/lib/python3.10/site-packages/sklearn/utils/validation.py:1688: FutureWarning: Feature names only support names that are all strings. Got feature names with dtypes: ['int', 'str']. An error will be raised in 1.2.\n",
      "  warnings.warn(\n",
      "/Users/lynnyang/opt/anaconda3/envs/DIA/lib/python3.10/site-packages/sklearn/utils/validation.py:1688: FutureWarning: Feature names only support names that are all strings. Got feature names with dtypes: ['int', 'str']. An error will be raised in 1.2.\n",
      "  warnings.warn(\n"
     ]
    },
    {
     "name": "stdout",
     "output_type": "stream",
     "text": [
      "[CV 4/5] END ..............C=10, kernel=sigmoid;, score=0.708 total time=   0.0s\n",
      "[CV 5/5] END ..............C=10, kernel=sigmoid;, score=0.749 total time=   0.0s\n",
      "[CV 1/5] END ............C=1000, kernel=sigmoid;, score=0.792 total time=   0.0s\n",
      "[CV 2/5] END ............C=1000, kernel=sigmoid;, score=0.786 total time=   0.0s\n",
      "[CV 3/5] END ............C=1000, kernel=sigmoid;, score=0.780 total time=   0.0s\n",
      "[CV 4/5] END ............C=1000, kernel=sigmoid;, score=0.714 total time=   0.0s\n",
      "[CV 5/5] END ............C=1000, kernel=sigmoid;, score=0.731 total time=   0.0s\n",
      "The best parameters are {'C': 0.1, 'kernel': 'sigmoid'} with a score of 0.85\n"
     ]
    },
    {
     "name": "stderr",
     "output_type": "stream",
     "text": [
      "/Users/lynnyang/opt/anaconda3/envs/DIA/lib/python3.10/site-packages/sklearn/utils/validation.py:1688: FutureWarning: Feature names only support names that are all strings. Got feature names with dtypes: ['int', 'str']. An error will be raised in 1.2.\n",
      "  warnings.warn(\n",
      "/Users/lynnyang/opt/anaconda3/envs/DIA/lib/python3.10/site-packages/sklearn/utils/validation.py:1688: FutureWarning: Feature names only support names that are all strings. Got feature names with dtypes: ['int', 'str']. An error will be raised in 1.2.\n",
      "  warnings.warn(\n",
      "/Users/lynnyang/opt/anaconda3/envs/DIA/lib/python3.10/site-packages/sklearn/utils/validation.py:1688: FutureWarning: Feature names only support names that are all strings. Got feature names with dtypes: ['int', 'str']. An error will be raised in 1.2.\n",
      "  warnings.warn(\n",
      "/Users/lynnyang/opt/anaconda3/envs/DIA/lib/python3.10/site-packages/sklearn/utils/validation.py:1688: FutureWarning: Feature names only support names that are all strings. Got feature names with dtypes: ['int', 'str']. An error will be raised in 1.2.\n",
      "  warnings.warn(\n",
      "/Users/lynnyang/opt/anaconda3/envs/DIA/lib/python3.10/site-packages/sklearn/utils/validation.py:1688: FutureWarning: Feature names only support names that are all strings. Got feature names with dtypes: ['int', 'str']. An error will be raised in 1.2.\n",
      "  warnings.warn(\n",
      "/Users/lynnyang/opt/anaconda3/envs/DIA/lib/python3.10/site-packages/sklearn/utils/validation.py:1688: FutureWarning: Feature names only support names that are all strings. Got feature names with dtypes: ['int', 'str']. An error will be raised in 1.2.\n",
      "  warnings.warn(\n",
      "/Users/lynnyang/opt/anaconda3/envs/DIA/lib/python3.10/site-packages/sklearn/utils/validation.py:1688: FutureWarning: Feature names only support names that are all strings. Got feature names with dtypes: ['int', 'str']. An error will be raised in 1.2.\n",
      "  warnings.warn(\n",
      "/Users/lynnyang/opt/anaconda3/envs/DIA/lib/python3.10/site-packages/sklearn/utils/validation.py:1688: FutureWarning: Feature names only support names that are all strings. Got feature names with dtypes: ['int', 'str']. An error will be raised in 1.2.\n",
      "  warnings.warn(\n",
      "/Users/lynnyang/opt/anaconda3/envs/DIA/lib/python3.10/site-packages/sklearn/utils/validation.py:1688: FutureWarning: Feature names only support names that are all strings. Got feature names with dtypes: ['int', 'str']. An error will be raised in 1.2.\n",
      "  warnings.warn(\n",
      "/Users/lynnyang/opt/anaconda3/envs/DIA/lib/python3.10/site-packages/sklearn/utils/validation.py:1688: FutureWarning: Feature names only support names that are all strings. Got feature names with dtypes: ['int', 'str']. An error will be raised in 1.2.\n",
      "  warnings.warn(\n",
      "/Users/lynnyang/opt/anaconda3/envs/DIA/lib/python3.10/site-packages/sklearn/utils/validation.py:1688: FutureWarning: Feature names only support names that are all strings. Got feature names with dtypes: ['int', 'str']. An error will be raised in 1.2.\n",
      "  warnings.warn(\n",
      "/Users/lynnyang/opt/anaconda3/envs/DIA/lib/python3.10/site-packages/sklearn/utils/validation.py:1688: FutureWarning: Feature names only support names that are all strings. Got feature names with dtypes: ['int', 'str']. An error will be raised in 1.2.\n",
      "  warnings.warn(\n"
     ]
    }
   ],
   "source": [
    "grid = GridSearchCV(SVC(), param_grid={\"C\":[0.1, 1, 10,1000], \\\n",
    "                                       \"kernel\":[\"sigmoid\"]}, refit = True, verbose = 3)  \n",
    "grid.fit(X_train, y_train)  \n",
    "print(\"The best parameters are %s with a score of %0.2f\" %(grid.best_params_, grid.best_score_))"
   ]
  },
  {
   "cell_type": "code",
   "execution_count": 26,
   "id": "6454a1cb",
   "metadata": {},
   "outputs": [
    {
     "name": "stdout",
     "output_type": "stream",
     "text": [
      "[0.7875, 0.18181818181818182, 0.07407407407407407]\n",
      "[0.84375, 0.75, 0.1111111111111111]\n"
     ]
    },
    {
     "data": {
      "image/png": "[encoded data removed]",
      "text/plain": [
       "<Figure size 1008x504 with 2 Axes>"
      ]
     },
     "metadata": {},
     "output_type": "display_data"
    }
   ],
   "source": [
    "# Intitialize figure with two plots\n",
    "fig, (ax1, ax2) = plt.subplots(1, 2)\n",
    "fig.suptitle('Model Comparison', fontsize=16, fontweight='bold')\n",
    "fig.set_figheight(7)\n",
    "fig.set_figwidth(14)\n",
    "fig.set_facecolor('white')\n",
    "barWidth = 0.2\n",
    "\n",
    "svc_score = [metrics.accuracy_score(y_test,svc_predict),\\\n",
    "             metrics.precision_score(y_test,svc_predict),\\\n",
    "             metrics.recall_score(y_test,svc_predict)]\n",
    "print(svc_score)\n",
    "knn_score = [metrics.accuracy_score(y_test,knn_predict),\\\n",
    "             metrics.precision_score(y_test,knn_predict),\\\n",
    "             metrics.recall_score(y_test,knn_predict)]\n",
    "print(knn_score)\n",
    "# Set position of bar on X axis\n",
    "r1 = np.arange(len(svc_score))\n",
    "r2 = [x + barWidth for x in r1]\n",
    "\n",
    "# Make the plot\n",
    "ax1.bar(r1, svc_score, width=barWidth, edgecolor='white', label='Support Vector Classifier')\n",
    "ax1.bar(r2, knn_score, width=barWidth, edgecolor='white', label='K-Nearest Neighbors')\n",
    "\n",
    "## Configure x and y axis\n",
    "ax1.set_xlabel('Metrics', fontweight='bold')\n",
    "labels = ['Accuracy', 'Precision', 'Recall']\n",
    "ax1.set_xticks([r + (barWidth * 1.5) for r in range(len(svc_score))], )\n",
    "ax1.set_xticklabels(labels)\n",
    "ax1.set_ylabel('Score', fontweight='bold')\n",
    "ax1.set_ylim(0, 1)\n",
    "\n",
    "## Create legend & title\n",
    "ax1.set_title('Evaluation Metrics', fontsize=14, fontweight='bold')\n",
    "ax1.legend()\n",
    "\n",
    "# Second plot\n",
    "## Comparing ROC Curve\n",
    "ax2.plot(fpr_SVC, tpr_SVC, label='Support Vector Classifier, auc = {:0.5f}'.format(auc_SVC))\n",
    "ax2.plot(fpr_KNN, tpr_KNN, label='K-Nearest Nieghbor, auc = {:0.5f}'.format(auc_KNN))\n",
    "\n",
    "## Configure x and y axis\n",
    "ax2.set_xlabel('False Positive Rate', fontweight='bold')\n",
    "ax2.set_ylabel('True Positive Rate', fontweight='bold')\n",
    "\n",
    "## Create legend & title\n",
    "ax2.set_title('ROC Curve', fontsize=14, fontweight='bold')\n",
    "ax2.legend(loc=4)\n",
    "\n",
    "plt.show()"
   ]
  },
  {
   "cell_type": "code",
   "execution_count": null,
   "id": "7757104b",
   "metadata": {},
   "outputs": [],
   "source": []
  }
 ],
 "metadata": {
  "kernelspec": {
   "display_name": "Python 3 (ipykernel)",
   "language": "python",
   "name": "python3"
  },
  "language_info": {
   "codemirror_mode": {
    "name": "ipython",
    "version": 3
   },
   "file_extension": ".py",
   "mimetype": "text/x-python",
   "name": "python",
   "nbconvert_exporter": "python",
   "pygments_lexer": "ipython3",
   "version": "3.10.0"
  }
 },
 "nbformat": 4,
 "nbformat_minor": 5
}
